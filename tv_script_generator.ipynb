{
 "cells": [
  {
   "cell_type": "markdown",
   "metadata": {
    "id": "QxO-ROZhgWH2"
   },
   "source": [
    "## Project Overview\n",
    "\n",
    "This project generates Seinfeld TV scripts using Recurrent Neural Networks (RNNs). The model is trained on a dataset containing scripts from 9 seasons of Seinfeld. The neural network learns patterns from the training data to generate new, \"fake\" TV scripts that mimic the style and dialogue of the original show."
   ]
  },
  {
   "cell_type": "markdown",
   "metadata": {},
   "source": [
    "## 2. Data Loading\n",
    "The Seinfeld scripts are loaded from a text file, and the first 500 characters of the text are printed to verify that the data has been loaded correctly."
   ]
  },
  {
   "cell_type": "code",
   "execution_count": 2,
   "metadata": {
    "colab": {
     "base_uri": "https://localhost:8080/"
    },
    "executionInfo": {
     "elapsed": 35821,
     "status": "ok",
     "timestamp": 1738461778426,
     "user": {
      "displayName": "Vidhi Thakkar",
      "userId": "12401929017902074556"
     },
     "user_tz": 300
    },
    "id": "Pst2gKOo7a-z",
    "outputId": "9babdee6-6c0e-47c5-9089-fa80cda37d2a"
   },
   "outputs": [
    {
     "name": "stdout",
     "output_type": "stream",
     "text": [
      "Mounted at /content/drive\n",
      "jerry: do you know what this is all about? do you know, why were here? to be out, this is out...and out is one of the single most enjoyable experiences of life. people...did you ever hear people talking about we should go out? this is what theyre talking about...this whole thing, were all out now, no one is home. not one person here is home, were all out! there are people trying to find us, they dont know where we are. (on an imaginary phone) did you ring?, i cant find him. where did he go? he d\n"
     ]
    }
   ],
   "source": [
    "from google.colab import drive\n",
    "drive.mount('/content/drive')\n",
    "\n",
    "import os\n",
    "import sys\n",
    "import importlib\n",
    "\n",
    "# Defining project directory in Drive\n",
    "project_dir = \"/content/drive/My Drive/projects/tv-script-gen/\"\n",
    "\n",
    "# Adding the project directory to sys.path to make sure both helper.py and problem_unittests.py can be imported\n",
    "sys.path.append(project_dir)\n",
    "\n",
    "# Force reload the helper module and problem_unittests module\n",
    "import helper\n",
    "importlib.reload(helper)\n",
    "\n",
    "import problem_unittests\n",
    "importlib.reload(problem_unittests)\n",
    "\n",
    "# Load data\n",
    "data_dir = os.path.join(project_dir, \"data\", \"seinfeld_scripts.txt\")\n",
    "text = helper.load_data(data_dir)\n",
    "\n",
    "# Printing first 500 characters to verify\n",
    "print(text[:500])"
   ]
  },
  {
   "cell_type": "markdown",
   "metadata": {
    "id": "A4Nx8W5jgWIC"
   },
   "source": [
    "## 3. Data Exploration\n",
    "Exploreing the dataset by providing statistics about the text, such as the number of unique words, the total number of lines, and the average number of words per line. A sample of the first few lines of dialogue is also displayed to give an idea of the content and structure of the scripts."
   ]
  },
  {
   "cell_type": "code",
   "execution_count": 3,
   "metadata": {
    "colab": {
     "base_uri": "https://localhost:8080/"
    },
    "executionInfo": {
     "elapsed": 19,
     "status": "ok",
     "timestamp": 1738461778426,
     "user": {
      "displayName": "Vidhi Thakkar",
      "userId": "12401929017902074556"
     },
     "user_tz": 300
    },
    "id": "ZRbE5H0ggWIC",
    "outputId": "b79f9e01-a594-477a-f7e6-eeee637f5c94"
   },
   "outputs": [
    {
     "name": "stdout",
     "output_type": "stream",
     "text": [
      "Dataset Stats\n",
      "Roughly the number of unique words: 46367\n",
      "Number of lines: 109233\n",
      "Average number of words in each line: 5.544240293684143\n",
      "\n",
      "The lines 0 to 10:\n",
      "jerry: do you know what this is all about? do you know, why were here? to be out, this is out...and out is one of the single most enjoyable experiences of life. people...did you ever hear people talking about we should go out? this is what theyre talking about...this whole thing, were all out now, no one is home. not one person here is home, were all out! there are people trying to find us, they dont know where we are. (on an imaginary phone) did you ring?, i cant find him. where did he go? he didnt tell me where he was going. he must have gone out. you wanna go out you get ready, you pick out the clothes, right? you take the shower, you get all ready, get the cash, get your friends, the car, the spot, the reservation...then youre standing around, what do you do? you go we gotta be getting back. once youre out, you wanna get back! you wanna go to sleep, you wanna get up, you wanna go out again tomorrow, right? where ever you are in life, its my feeling, youve gotta go. \n",
      "\n",
      "jerry: (pointing at georges shirt) see, to me, that button is in the worst possible spot. the second button literally makes or breaks the shirt, look at it. its too high! its in no-mans-land. you look like you live with your mother. \n",
      "\n",
      "george: are you through? \n",
      "\n",
      "jerry: you do of course try on, when you buy? \n",
      "\n",
      "george: yes, it was purple, i liked it, i dont actually recall considering the buttons. \n",
      "\n"
     ]
    }
   ],
   "source": [
    "view_line_range = (0, 10)\n",
    "\n",
    "import numpy as np\n",
    "\n",
    "print('Dataset Stats')\n",
    "print('Roughly the number of unique words: {}'.format(len({word: None for word in text.split()})))\n",
    "\n",
    "lines = text.split('\\n')\n",
    "print('Number of lines: {}'.format(len(lines)))\n",
    "word_count_line = [len(line.split()) for line in lines]\n",
    "print('Average number of words in each line: {}'.format(np.average(word_count_line)))\n",
    "\n",
    "print()\n",
    "print('The lines {} to {}:'.format(*view_line_range))\n",
    "print('\\n'.join(text.split('\\n')[view_line_range[0]:view_line_range[1]]))"
   ]
  },
  {
   "cell_type": "markdown",
   "metadata": {
    "id": "kag11C-1gWIG"
   },
   "source": [
    "\n",
    "## 4. Data Pre-processing\n",
    "pre-processing functions the entire dataset using the defined functions. The `create_lookup_tables` function creates dictionaries to map words to unique integer IDs and vice versa. The `token_lookup` function generates a dictionary to replace punctuation with specific tokens, ensuring that punctuation does not interfere with word identification."
   ]
  },
  {
   "cell_type": "code",
   "execution_count": 4,
   "metadata": {
    "colab": {
     "base_uri": "https://localhost:8080/"
    },
    "executionInfo": {
     "elapsed": 18,
     "status": "ok",
     "timestamp": 1738461778427,
     "user": {
      "displayName": "Vidhi Thakkar",
      "userId": "12401929017902074556"
     },
     "user_tz": 300
    },
    "id": "Vale_LdZgWIH",
    "outputId": "52c2bff9-b533-412a-e528-ee623a33f0cc"
   },
   "outputs": [
    {
     "name": "stdout",
     "output_type": "stream",
     "text": [
      "Tests Passed\n"
     ]
    }
   ],
   "source": [
    "import problem_unittests as tests\n",
    "from collections import Counter\n",
    "\n",
    "def create_lookup_tables(text):\n",
    "    \"\"\"\n",
    "    Create lookup tables for vocabulary\n",
    "    :param text: The text of tv scripts split into words\n",
    "    :return: A tuple of dicts (vocab_to_int, int_to_vocab)\n",
    "    \"\"\"\n",
    "    word_counts = Counter(text)\n",
    "    sorted_vocab = sorted(word_counts, key=word_counts.get, reverse=True)\n",
    "    int_to_vocab = {ii: word for ii, word in enumerate(sorted_vocab)}\n",
    "    vocab_to_int = {word: ii for ii, word in int_to_vocab.items()}\n",
    "    \n",
    "    return (vocab_to_int, int_to_vocab)\n",
    "\n",
    "\n",
    "tests.test_create_lookup_tables(create_lookup_tables)"
   ]
  },
  {
   "cell_type": "code",
   "execution_count": 5,
   "metadata": {
    "colab": {
     "base_uri": "https://localhost:8080/"
    },
    "executionInfo": {
     "elapsed": 12,
     "status": "ok",
     "timestamp": 1738461778427,
     "user": {
      "displayName": "Vidhi Thakkar",
      "userId": "12401929017902074556"
     },
     "user_tz": 300
    },
    "id": "VOqV494JgWIL",
    "outputId": "03a0af20-0e09-43d9-9e93-637b416e79b4"
   },
   "outputs": [
    {
     "name": "stdout",
     "output_type": "stream",
     "text": [
      "Tests Passed\n"
     ]
    }
   ],
   "source": [
    "def token_lookup():\n",
    "    \"\"\"\n",
    "    Generate a dict to turn punctuation into a token.\n",
    "    :return: Tokenized dictionary where the key is the punctuation and the value is the token\n",
    "    \"\"\"\n",
    "    \n",
    "    tokens = {\n",
    "        '.': '||Period||',\n",
    "        ',': '||Comma||',\n",
    "        '\"': '||Quotation_Mark||',\n",
    "        ';': '||Semicolon||',\n",
    "        '!': '||Exclamation_mark||',\n",
    "        '?': '||Question_mark||',\n",
    "        '(': '||Left_Parentheses||',\n",
    "        ')': '||Right_Parentheses||',\n",
    "        '-': '||Dash||',\n",
    "        '\\n': '||Return||'\n",
    "    }\n",
    "\n",
    "    return tokens\n",
    "\n",
    "tests.test_tokenize(token_lookup)"
   ]
  },
  {
   "cell_type": "code",
   "execution_count": 6,
   "metadata": {
    "executionInfo": {
     "elapsed": 411,
     "status": "ok",
     "timestamp": 1738461778829,
     "user": {
      "displayName": "Vidhi Thakkar",
      "userId": "12401929017902074556"
     },
     "user_tz": 300
    },
    "id": "ZSurgiybgWIP"
   },
   "outputs": [],
   "source": [
    "# pre-process training data\n",
    "helper.preprocess_and_save_data(data_dir, token_lookup, create_lookup_tables)"
   ]
  },
  {
   "cell_type": "code",
   "execution_count": 7,
   "metadata": {
    "executionInfo": {
     "elapsed": 307,
     "status": "ok",
     "timestamp": 1738461779131,
     "user": {
      "displayName": "Vidhi Thakkar",
      "userId": "12401929017902074556"
     },
     "user_tz": 300
    },
    "id": "o7OyAQ06gWIS"
   },
   "outputs": [],
   "source": [
    "import helper\n",
    "import problem_unittests as tests\n",
    "\n",
    "int_text, vocab_to_int, int_to_vocab, token_dict = helper.load_preprocess()"
   ]
  },
  {
   "cell_type": "markdown",
   "metadata": {
    "id": "XyIoIc4-gWIU"
   },
   "source": [
    "## 5. Neural Network Construction\n",
    "The RNN architecture is defined using PyTorch. The RNN class is implemented with methods for initialization, forward propagation, and hidden state initialization. The model is designed to process sequences of words and predict the next word in the sequence."
   ]
  },
  {
   "cell_type": "code",
   "execution_count": 8,
   "metadata": {
    "executionInfo": {
     "elapsed": 7,
     "status": "ok",
     "timestamp": 1738461779131,
     "user": {
      "displayName": "Vidhi Thakkar",
      "userId": "12401929017902074556"
     },
     "user_tz": 300
    },
    "id": "BX0jfFF-gWIV"
   },
   "outputs": [],
   "source": [
    "import torch\n",
    "\n",
    "# Check for a GPU\n",
    "train_on_gpu = torch.cuda.is_available()\n",
    "if not train_on_gpu:\n",
    "    print('No GPU found. Please use a GPU to train your neural network.')"
   ]
  },
  {
   "cell_type": "code",
   "execution_count": 9,
   "metadata": {
    "executionInfo": {
     "elapsed": 6,
     "status": "ok",
     "timestamp": 1738461779131,
     "user": {
      "displayName": "Vidhi Thakkar",
      "userId": "12401929017902074556"
     },
     "user_tz": 300
    },
    "id": "usENykscgWIZ"
   },
   "outputs": [],
   "source": [
    "from torch.utils.data import TensorDataset, DataLoader\n",
    "\n",
    "def batch_data(words, sequence_length, batch_size):\n",
    "    \"\"\"\n",
    "    Batch the neural network data using DataLoader\n",
    "    :param words: The word ids of the TV scripts\n",
    "    :param sequence_length: The sequence length of each batch\n",
    "    :param batch_size: The size of each batch; the number of sequences in a batch\n",
    "    :return: DataLoader with batched data\n",
    "    \"\"\"\n",
    "    \n",
    "    n_batches = len(words)//batch_size\n",
    "\n",
    "    words = words[:n_batches*batch_size]\n",
    "\n",
    "    x, y = [], []\n",
    "    for idx in range(0, len(words) - sequence_length):\n",
    "        idx_stop = sequence_length + idx\n",
    "        batch_x = words[idx: idx_stop]\n",
    "        x.append(batch_x)\n",
    "        batch_y = words[idx_stop]\n",
    "        y.append(batch_y)\n",
    "\n",
    "    data = TensorDataset(torch.from_numpy(np.asarray(x)), torch.from_numpy(np.asarray(y)))\n",
    "    data_loader = DataLoader(data, shuffle=False, batch_size=batch_size)\n",
    "    \n",
    "    return data_loader"
   ]
  },
  {
   "cell_type": "code",
   "execution_count": 10,
   "metadata": {
    "colab": {
     "base_uri": "https://localhost:8080/"
    },
    "executionInfo": {
     "elapsed": 6,
     "status": "ok",
     "timestamp": 1738461779131,
     "user": {
      "displayName": "Vidhi Thakkar",
      "userId": "12401929017902074556"
     },
     "user_tz": 300
    },
    "id": "Cwez2FT5gWId",
    "outputId": "1052e1dc-9145-49ba-862b-aeb89e62e4f8"
   },
   "outputs": [
    {
     "name": "stdout",
     "output_type": "stream",
     "text": [
      "torch.Size([10, 5])\n",
      "tensor([[ 0,  1,  2,  3,  4],\n",
      "        [ 1,  2,  3,  4,  5],\n",
      "        [ 2,  3,  4,  5,  6],\n",
      "        [ 3,  4,  5,  6,  7],\n",
      "        [ 4,  5,  6,  7,  8],\n",
      "        [ 5,  6,  7,  8,  9],\n",
      "        [ 6,  7,  8,  9, 10],\n",
      "        [ 7,  8,  9, 10, 11],\n",
      "        [ 8,  9, 10, 11, 12],\n",
      "        [ 9, 10, 11, 12, 13]])\n",
      "\n",
      "torch.Size([10])\n",
      "tensor([ 5,  6,  7,  8,  9, 10, 11, 12, 13, 14])\n"
     ]
    }
   ],
   "source": [
    "# Test dataloader\n",
    "test_text = range(50)\n",
    "t_loader = batch_data(test_text, sequence_length=5, batch_size=10)\n",
    "\n",
    "data_iter = iter(t_loader)\n",
    "sample_x, sample_y = next(data_iter)  # ✅ Corrected\n",
    "\n",
    "print(sample_x.shape)\n",
    "print(sample_x)\n",
    "print()\n",
    "print(sample_y.shape)\n",
    "print(sample_y)"
   ]
  },
  {
   "cell_type": "markdown",
   "metadata": {
    "id": "xNYdoOktgWIg"
   },
   "source": [
    "### Building the Neural Network\n",
    "Implementing an RNN using PyTorch's [Module class]. The initialize function creates the layers of the neural network and save them to the class. The forward propagation function uses these layers to run forward propagation and generate an output and a hidden state.\n",
    "\n",
    "**The output of this model is the *last* batch of word scores** after a complete sequence has been processed. That is, for each input sequence of words, it output's the word scores for a single, most likely, next word."
   ]
  },
  {
   "cell_type": "code",
   "execution_count": 11,
   "metadata": {
    "colab": {
     "base_uri": "https://localhost:8080/"
    },
    "executionInfo": {
     "elapsed": 1517,
     "status": "ok",
     "timestamp": 1738461780643,
     "user": {
      "displayName": "Vidhi Thakkar",
      "userId": "12401929017902074556"
     },
     "user_tz": 300
    },
    "id": "yVVMIJ27gWIg",
    "outputId": "c1a630c6-d6c2-44e3-cc0b-940a2683c028"
   },
   "outputs": [
    {
     "name": "stdout",
     "output_type": "stream",
     "text": [
      "Tests Passed\n"
     ]
    }
   ],
   "source": [
    "import torch.nn as nn\n",
    "\n",
    "class RNN(nn.Module):\n",
    "\n",
    "    def __init__(self, vocab_size, output_size, embedding_dim, hidden_dim, n_layers, dropout=0.5):\n",
    "        \"\"\"\n",
    "        Initialize the PyTorch RNN Module\n",
    "        :param vocab_size: The number of input dimensions of the neural network (the size of the vocabulary)\n",
    "        :param output_size: The number of output dimensions of the neural network\n",
    "        :param embedding_dim: The size of embeddings, should you choose to use them\n",
    "        :param hidden_dim: The size of the hidden layer outputs\n",
    "        :param dropout: dropout to add in between LSTM/GRU layers\n",
    "        \"\"\"\n",
    "        super(RNN, self).__init__()\n",
    "        \n",
    "        self.output_size = output_size\n",
    "        self.n_layers = n_layers\n",
    "        self.hidden_dim = hidden_dim\n",
    "\n",
    "        # defining model layers\n",
    "        # embedding and LSTM layers\n",
    "        self.embedding = nn.Embedding(vocab_size, embedding_dim)\n",
    "        self.lstm = nn.LSTM(embedding_dim, hidden_dim, n_layers, dropout=dropout, batch_first=True)\n",
    "\n",
    "        # linear and sigmoid layers\n",
    "        self.fc = nn.Linear(hidden_dim, output_size)\n",
    "        self.sig = nn.Sigmoid()\n",
    "\n",
    "\n",
    "    def forward(self, nn_input, hidden):\n",
    "        \"\"\"\n",
    "        Forward propagation of the neural network\n",
    "        :param nn_input: The input to the neural network\n",
    "        :param hidden: The hidden state\n",
    "        :return: Two Tensors, the output of the neural network and the latest hidden state\n",
    "        \"\"\"\n",
    "        \n",
    "        batch_size = nn_input.size(0)\n",
    "\n",
    "        # embeddings and lstm_out\n",
    "        embeds = self.embedding(nn_input)\n",
    "        lstm_out, hidden = self.lstm(embeds, hidden)\n",
    "\n",
    "        # stack up lstm outputs\n",
    "        lstm_out = lstm_out.contiguous().view(-1, self.hidden_dim)\n",
    "\n",
    "        # fully-connected layer\n",
    "        out = self.fc(lstm_out)\n",
    "\n",
    "        # reshape into (batch_size, seq_length, output_size)\n",
    "        out = out.view(batch_size, -1, self.output_size)\n",
    "        # get last batch\n",
    "        out = out[:, -1]\n",
    "\n",
    "        # return one batch of output word scores and the hidden state\n",
    "        return out, hidden\n",
    "\n",
    "\n",
    "    def init_hidden(self, batch_size):\n",
    "        '''\n",
    "        Initialize the hidden state of an LSTM/GRU\n",
    "        :param batch_size: The batch_size of the hidden state\n",
    "        :return: hidden state of dims (n_layers, batch_size, hidden_dim)\n",
    "        '''\n",
    "\n",
    "        # initializing hidden state with zero weights, and move to GPU if available\n",
    "        weight = next(self.parameters()).data\n",
    "\n",
    "        if (train_on_gpu):\n",
    "            hidden = (weight.new(self.n_layers, batch_size, self.hidden_dim).zero_().cuda(),\n",
    "                  weight.new(self.n_layers, batch_size, self.hidden_dim).zero_().cuda())\n",
    "        else:\n",
    "            hidden = (weight.new(self.n_layers, batch_size, self.hidden_dim).zero_(),\n",
    "                      weight.new(self.n_layers, batch_size, self.hidden_dim).zero_())\n",
    "\n",
    "        return hidden\n",
    "\n",
    "tests.test_rnn(RNN, train_on_gpu)"
   ]
  },
  {
   "cell_type": "markdown",
   "metadata": {
    "id": "uSR6ra5YgWIj"
   },
   "source": [
    "### 6. Forward and Backward Propagation\n",
    "The `forward_back_prop` function computes the output of the model, calculates the loss, and updates the model parameters using backpropagation."
   ]
  },
  {
   "cell_type": "code",
   "execution_count": 12,
   "metadata": {
    "colab": {
     "base_uri": "https://localhost:8080/"
    },
    "executionInfo": {
     "elapsed": 4105,
     "status": "ok",
     "timestamp": 1738461784744,
     "user": {
      "displayName": "Vidhi Thakkar",
      "userId": "12401929017902074556"
     },
     "user_tz": 300
    },
    "id": "DjnjmQN0gWIk",
    "outputId": "65066234-c299-4800-c4b3-89db98706b3f"
   },
   "outputs": [
    {
     "name": "stdout",
     "output_type": "stream",
     "text": [
      "Tests Passed\n"
     ]
    }
   ],
   "source": [
    "def forward_back_prop(rnn, optimizer, criterion, inp, target, hidden):\n",
    "    \"\"\"\n",
    "    Forward and backward propagation on the neural network\n",
    "    :param decoder: The PyTorch Module that holds the neural network\n",
    "    :param decoder_optimizer: The PyTorch optimizer for the neural network\n",
    "    :param criterion: The PyTorch loss function\n",
    "    :param inp: A batch of input to the neural network\n",
    "    :param target: The target output for the batch of input\n",
    "    :return: The loss and the latest hidden state Tensor\n",
    "    \"\"\"\n",
    "\n",
    "    # move data to GPU, if available\n",
    "    if(train_on_gpu):\n",
    "        rnn.cuda()\n",
    "        inp, target = inp.cuda(), target.cuda()\n",
    "\n",
    "    # perform backpropagation and optimization\n",
    "\n",
    "    # Creating new variables for the hidden state, otherwise\n",
    "    # we'd backprop through the entire training history\n",
    "    h = tuple([each.data for each in hidden])\n",
    "\n",
    "    # zero accumulated gradients\n",
    "    rnn.zero_grad()\n",
    "\n",
    "    # getting the output from the model\n",
    "    output, h = rnn(inp, h)\n",
    "\n",
    "    # calculating the loss and perform backprop\n",
    "    loss = criterion(output, target)\n",
    "    loss.backward()\n",
    "\n",
    "    # `clip_grad_norm` helps prevent the exploding gradient problem in RNNs / LSTMs.\n",
    "    nn.utils.clip_grad_norm_(rnn.parameters(), 5)\n",
    "    optimizer.step()\n",
    "\n",
    "    # returning the loss over a batch and the hidden state produced by our model\n",
    "    return loss.item(), h\n",
    "\n",
    "\n",
    "tests.test_forward_back_prop(RNN, forward_back_prop, train_on_gpu)"
   ]
  },
  {
   "cell_type": "markdown",
   "metadata": {
    "id": "9x9ucXu8gWIm"
   },
   "source": [
    "## 7. Neural Network Training\n",
    "Implementing the training loop for the RNN. The `train_rnn` function iterates through the dataset for a specified number of epochs, performing forward and backward propagation for each batch of data. It prints the average loss at specified intervals to monitor the training progress."
   ]
  },
  {
   "cell_type": "code",
   "execution_count": 13,
   "metadata": {
    "executionInfo": {
     "elapsed": 9,
     "status": "ok",
     "timestamp": 1738461784745,
     "user": {
      "displayName": "Vidhi Thakkar",
      "userId": "12401929017902074556"
     },
     "user_tz": 300
    },
    "id": "ygyU-iJFgWIn"
   },
   "outputs": [],
   "source": [
    "def train_rnn(rnn, batch_size, optimizer, criterion, n_epochs, show_every_n_batches=100):\n",
    "    batch_losses = []\n",
    "\n",
    "    rnn.train()\n",
    "\n",
    "    print(\"Training for %d epoch(s)...\" % n_epochs)\n",
    "    for epoch_i in range(1, n_epochs + 1):\n",
    "\n",
    "        # initializing hidden state\n",
    "        hidden = rnn.init_hidden(batch_size)\n",
    "\n",
    "        for batch_i, (inputs, labels) in enumerate(train_loader, 1):\n",
    "\n",
    "            # making sure it iterates over completely full batches, only\n",
    "            n_batches = len(train_loader.dataset)//batch_size\n",
    "            if(batch_i > n_batches):\n",
    "                break\n",
    "\n",
    "            # forward, back prop\n",
    "            loss, hidden = forward_back_prop(rnn, optimizer, criterion, inputs, labels, hidden)\n",
    "            # record loss\n",
    "            batch_losses.append(loss)\n",
    "\n",
    "            # printing loss stats\n",
    "            if batch_i % show_every_n_batches == 0:\n",
    "                print('Epoch: {:>4}/{:<4}  Loss: {}\\n'.format(\n",
    "                    epoch_i, n_epochs, np.average(batch_losses)))\n",
    "                batch_losses = []\n",
    "\n",
    "    # returns a trained rnn\n",
    "    return rnn"
   ]
  },
  {
   "cell_type": "markdown",
   "metadata": {
    "id": "aWxT3_-agWIq"
   },
   "source": [
    "### 8. Hyperparameters\n",
    "The hyperparameters for training the RNN are defined. These parameters includes:\n",
    "- Setting `sequence_length` to the length of a sequence.\n",
    "- Setting `batch_size` to the batch size.\n",
    "- Setting `num_epochs` to the number of epochs to train for.\n",
    "- Setting `learning_rate` to the learning rate for an Adam optimizer.\n",
    "- Setting `vocab_size` to the number of uniqe tokens in our vocabulary.\n",
    "- Setting `output_size` to the desired size of the output.\n",
    "- Setting `embedding_dim` to the embedding dimension; smaller than the vocab_size.\n",
    "- Setting `hidden_dim` to the hidden dimension of your RNN.\n",
    "- Setting `n_layers` to the number of layers/cells in your RNN.\n",
    "- Setting `show_every_n_batches` to the number of batches at which the neural network should print progress."
   ]
  },
  {
   "cell_type": "code",
   "execution_count": 14,
   "metadata": {
    "executionInfo": {
     "elapsed": 2825,
     "status": "ok",
     "timestamp": 1738461787562,
     "user": {
      "displayName": "Vidhi Thakkar",
      "userId": "12401929017902074556"
     },
     "user_tz": 300
    },
    "id": "Zz5OBF8ygWIr"
   },
   "outputs": [],
   "source": [
    "# Data params\n",
    "# Sequence Length\n",
    "sequence_length = 10  # of words in a sequence\n",
    "# Batch Size\n",
    "batch_size = 128\n",
    "\n",
    "# data loader\n",
    "train_loader = batch_data(int_text, sequence_length, batch_size)"
   ]
  },
  {
   "cell_type": "code",
   "execution_count": 15,
   "metadata": {
    "executionInfo": {
     "elapsed": 10,
     "status": "ok",
     "timestamp": 1738461787565,
     "user": {
      "displayName": "Vidhi Thakkar",
      "userId": "12401929017902074556"
     },
     "user_tz": 300
    },
    "id": "fS8sPoYdgWIt"
   },
   "outputs": [],
   "source": [
    "# Training parameters\n",
    "# Number of Epochs\n",
    "num_epochs = 10\n",
    "# Learning Rate\n",
    "learning_rate = 0.001\n",
    "\n",
    "# Model parameters\n",
    "# Vocab size\n",
    "vocab_size = len(vocab_to_int)\n",
    "# Output size\n",
    "output_size = vocab_size\n",
    "# Embedding Dimension\n",
    "embedding_dim = 300\n",
    "# Hidden Dimension\n",
    "hidden_dim = 512\n",
    "# Number of RNN Layers\n",
    "n_layers = 2\n",
    "\n",
    "# Showing stats for every n number of batches\n",
    "show_every_n_batches = 500"
   ]
  },
  {
   "cell_type": "markdown",
   "metadata": {
    "id": "X6OuUTuwgWIv"
   },
   "source": [
    "## 9. Model Training\n",
    "Initiating the training of the RNN model using the defined parameters."
   ]
  },
  {
   "cell_type": "code",
   "execution_count": 16,
   "metadata": {
    "colab": {
     "base_uri": "https://localhost:8080/"
    },
    "executionInfo": {
     "elapsed": 83453,
     "status": "ok",
     "timestamp": 1738464592870,
     "user": {
      "displayName": "Vidhi Thakkar",
      "userId": "12401929017902074556"
     },
     "user_tz": 300
    },
    "id": "8Ve0YfzYgWIw",
    "outputId": "55ccaf2c-4724-44dc-8c7d-7ec3713d64b1"
   },
   "outputs": [
    {
     "name": "stdout",
     "output_type": "stream",
     "text": [
      "Training for 10 epoch(s)...\n",
      "Epoch:    1/10    Loss: 5.370089016914368\n",
      "\n",
      "Epoch:    1/10    Loss: 4.798733164787293\n",
      "\n",
      "Epoch:    1/10    Loss: 4.542001016139984\n",
      "\n",
      "Epoch:    1/10    Loss: 4.418223347663879\n",
      "\n",
      "Epoch:    1/10    Loss: 4.430387577533722\n",
      "\n",
      "Epoch:    1/10    Loss: 4.464100285053253\n",
      "\n",
      "Epoch:    1/10    Loss: 4.369395916938782\n",
      "\n",
      "Epoch:    1/10    Loss: 4.248648833751679\n",
      "\n",
      "Epoch:    1/10    Loss: 4.236416395664215\n",
      "\n",
      "Epoch:    1/10    Loss: 4.164144903182984\n",
      "\n",
      "Epoch:    1/10    Loss: 4.291093181610107\n",
      "\n",
      "Epoch:    1/10    Loss: 4.313761456012726\n",
      "\n",
      "Epoch:    1/10    Loss: 4.3124701805114745\n",
      "\n",
      "Epoch:    2/10    Loss: 4.097656175863644\n",
      "\n",
      "Epoch:    2/10    Loss: 3.909405348300934\n",
      "\n",
      "Epoch:    2/10    Loss: 3.816537125110626\n",
      "\n",
      "Epoch:    2/10    Loss: 3.7396456742286683\n",
      "\n",
      "Epoch:    2/10    Loss: 3.7917556462287902\n",
      "\n",
      "Epoch:    2/10    Loss: 3.8681172285079954\n",
      "\n",
      "Epoch:    2/10    Loss: 3.8215636863708498\n",
      "\n",
      "Epoch:    2/10    Loss: 3.7154536542892456\n",
      "\n",
      "Epoch:    2/10    Loss: 3.716721570968628\n",
      "\n",
      "Epoch:    2/10    Loss: 3.6762031626701357\n",
      "\n",
      "Epoch:    2/10    Loss: 3.8224415106773377\n",
      "\n",
      "Epoch:    2/10    Loss: 3.817265748500824\n",
      "\n",
      "Epoch:    2/10    Loss: 3.838453119277954\n",
      "\n",
      "Epoch:    3/10    Loss: 3.7282765529865074\n",
      "\n",
      "Epoch:    3/10    Loss: 3.6498864827156066\n",
      "\n",
      "Epoch:    3/10    Loss: 3.531709672451019\n",
      "\n",
      "Epoch:    3/10    Loss: 3.5035103769302367\n",
      "\n",
      "Epoch:    3/10    Loss: 3.5251630630493165\n",
      "\n",
      "Epoch:    3/10    Loss: 3.6303168649673463\n",
      "\n",
      "Epoch:    3/10    Loss: 3.5894701132774354\n",
      "\n",
      "Epoch:    3/10    Loss: 3.487438527107239\n",
      "\n",
      "Epoch:    3/10    Loss: 3.484277458667755\n",
      "\n",
      "Epoch:    3/10    Loss: 3.454419063091278\n",
      "\n",
      "Epoch:    3/10    Loss: 3.5927528977394103\n",
      "\n",
      "Epoch:    3/10    Loss: 3.5623316898345947\n",
      "\n",
      "Epoch:    3/10    Loss: 3.565195638179779\n",
      "\n",
      "Epoch:    4/10    Loss: 3.5213044593649463\n",
      "\n",
      "Epoch:    4/10    Loss: 3.453509041786194\n",
      "\n",
      "Epoch:    4/10    Loss: 3.3648233284950257\n",
      "\n",
      "Epoch:    4/10    Loss: 3.313915681362152\n",
      "\n",
      "Epoch:    4/10    Loss: 3.3355855016708373\n",
      "\n",
      "Epoch:    4/10    Loss: 3.444579803943634\n",
      "\n",
      "Epoch:    4/10    Loss: 3.414889681816101\n",
      "\n",
      "Epoch:    4/10    Loss: 3.314604916572571\n",
      "\n",
      "Epoch:    4/10    Loss: 3.328593867778778\n",
      "\n",
      "Epoch:    4/10    Loss: 3.2970677161216737\n",
      "\n",
      "Epoch:    4/10    Loss: 3.440515950202942\n",
      "\n",
      "Epoch:    4/10    Loss: 3.400771237373352\n",
      "\n",
      "Epoch:    4/10    Loss: 3.3925719447135925\n",
      "\n",
      "Epoch:    5/10    Loss: 3.3607172268973895\n",
      "\n",
      "Epoch:    5/10    Loss: 3.307034191608429\n",
      "\n",
      "Epoch:    5/10    Loss: 3.2352418260574343\n",
      "\n",
      "Epoch:    5/10    Loss: 3.1910418066978457\n",
      "\n",
      "Epoch:    5/10    Loss: 3.209979808807373\n",
      "\n",
      "Epoch:    5/10    Loss: 3.310906536579132\n",
      "\n",
      "Epoch:    5/10    Loss: 3.283348544597626\n",
      "\n",
      "Epoch:    5/10    Loss: 3.197654614448547\n",
      "\n",
      "Epoch:    5/10    Loss: 3.2069092569351194\n",
      "\n",
      "Epoch:    5/10    Loss: 3.1826791305541993\n",
      "\n",
      "Epoch:    5/10    Loss: 3.307371219158173\n",
      "\n",
      "Epoch:    5/10    Loss: 3.2654022107124328\n",
      "\n",
      "Epoch:    5/10    Loss: 3.2741034836769103\n",
      "\n",
      "Epoch:    6/10    Loss: 3.252911183706\n",
      "\n",
      "Epoch:    6/10    Loss: 3.214377483844757\n",
      "\n",
      "Epoch:    6/10    Loss: 3.150893682003021\n",
      "\n",
      "Epoch:    6/10    Loss: 3.105171311855316\n",
      "\n",
      "Epoch:    6/10    Loss: 3.108247042655945\n",
      "\n",
      "Epoch:    6/10    Loss: 3.203402970790863\n",
      "\n",
      "Epoch:    6/10    Loss: 3.2057380023002624\n",
      "\n",
      "Epoch:    6/10    Loss: 3.116044215679169\n",
      "\n",
      "Epoch:    6/10    Loss: 3.1173105254173277\n",
      "\n",
      "Epoch:    6/10    Loss: 3.094797446727753\n",
      "\n",
      "Epoch:    6/10    Loss: 3.2096510996818544\n",
      "\n",
      "Epoch:    6/10    Loss: 3.1690833778381347\n",
      "\n",
      "Epoch:    6/10    Loss: 3.1705839142799377\n",
      "\n",
      "Epoch:    7/10    Loss: 3.1567372036866903\n",
      "\n",
      "Epoch:    7/10    Loss: 3.137669976234436\n",
      "\n",
      "Epoch:    7/10    Loss: 3.078609811782837\n",
      "\n",
      "Epoch:    7/10    Loss: 3.032529531955719\n",
      "\n",
      "Epoch:    7/10    Loss: 3.0268510766029357\n",
      "\n",
      "Epoch:    7/10    Loss: 3.1184251279830932\n",
      "\n",
      "Epoch:    7/10    Loss: 3.1230370106697083\n",
      "\n",
      "Epoch:    7/10    Loss: 3.039284312725067\n",
      "\n",
      "Epoch:    7/10    Loss: 3.0382873363494873\n",
      "\n",
      "Epoch:    7/10    Loss: 3.0175486555099487\n",
      "\n",
      "Epoch:    7/10    Loss: 3.1261955013275147\n",
      "\n",
      "Epoch:    7/10    Loss: 3.087884174346924\n",
      "\n",
      "Epoch:    7/10    Loss: 3.0859140944480896\n",
      "\n",
      "Epoch:    8/10    Loss: 3.087925468594575\n",
      "\n",
      "Epoch:    8/10    Loss: 3.0624811544418336\n",
      "\n",
      "Epoch:    8/10    Loss: 3.0044157481193543\n",
      "\n",
      "Epoch:    8/10    Loss: 2.9710274567604067\n",
      "\n",
      "Epoch:    8/10    Loss: 2.9589194350242614\n",
      "\n",
      "Epoch:    8/10    Loss: 3.048202270030975\n",
      "\n",
      "Epoch:    8/10    Loss: 3.06103840637207\n",
      "\n",
      "Epoch:    8/10    Loss: 2.9846897859573365\n",
      "\n",
      "Epoch:    8/10    Loss: 2.9699093661308287\n",
      "\n",
      "Epoch:    8/10    Loss: 2.9593295969963074\n",
      "\n",
      "Epoch:    8/10    Loss: 3.0520792775154115\n",
      "\n",
      "Epoch:    8/10    Loss: 3.014364124298096\n",
      "\n",
      "Epoch:    8/10    Loss: 3.020245446205139\n",
      "\n",
      "Epoch:    9/10    Loss: 3.0291656598079304\n",
      "\n",
      "Epoch:    9/10    Loss: 2.996222422122955\n",
      "\n",
      "Epoch:    9/10    Loss: 2.9480061435699465\n",
      "\n",
      "Epoch:    9/10    Loss: 2.9208659543991087\n",
      "\n",
      "Epoch:    9/10    Loss: 2.897908319950104\n",
      "\n",
      "Epoch:    9/10    Loss: 2.984945845603943\n",
      "\n",
      "Epoch:    9/10    Loss: 3.0018511481285097\n",
      "\n",
      "Epoch:    9/10    Loss: 2.932936013698578\n",
      "\n",
      "Epoch:    9/10    Loss: 2.9216179161071776\n",
      "\n",
      "Epoch:    9/10    Loss: 2.8978525347709656\n",
      "\n",
      "Epoch:    9/10    Loss: 2.996513508796692\n",
      "\n",
      "Epoch:    9/10    Loss: 2.9609116983413695\n",
      "\n",
      "Epoch:    9/10    Loss: 2.9614828152656556\n",
      "\n",
      "Epoch:   10/10    Loss: 2.9745503109841307\n",
      "\n",
      "Epoch:   10/10    Loss: 2.9462271304130554\n",
      "\n",
      "Epoch:   10/10    Loss: 2.901315248966217\n",
      "\n",
      "Epoch:   10/10    Loss: 2.8870298466682436\n",
      "\n",
      "Epoch:   10/10    Loss: 2.846751335144043\n",
      "\n",
      "Epoch:   10/10    Loss: 2.9315645146369933\n",
      "\n",
      "Epoch:   10/10    Loss: 2.942334234714508\n",
      "\n",
      "Epoch:   10/10    Loss: 2.881404182910919\n",
      "\n",
      "Epoch:   10/10    Loss: 2.871995116710663\n",
      "\n",
      "Epoch:   10/10    Loss: 2.857047177314758\n",
      "\n",
      "Epoch:   10/10    Loss: 2.9427106857299803\n",
      "\n",
      "Epoch:   10/10    Loss: 2.906894591331482\n",
      "\n",
      "Epoch:   10/10    Loss: 2.917490343570709\n",
      "\n",
      "Model Trained and Saved\n"
     ]
    }
   ],
   "source": [
    "# creating model and move to gpu if available\n",
    "rnn = RNN(vocab_size, output_size, embedding_dim, hidden_dim, n_layers, dropout=0.5)\n",
    "if train_on_gpu:\n",
    "    rnn.cuda()\n",
    "\n",
    "# defining loss and optimization functions for training\n",
    "optimizer = torch.optim.Adam(rnn.parameters(), lr=learning_rate)\n",
    "criterion = nn.CrossEntropyLoss()\n",
    "\n",
    "# training the model\n",
    "trained_rnn = train_rnn(rnn, batch_size, optimizer, criterion, num_epochs, show_every_n_batches)\n",
    "\n",
    "# Defining the path to the model folder within the project\n",
    "model_path = os.path.join(project_dir, \"model\")\n",
    "\n",
    "# Saving the model\n",
    "helper.save_model(os.path.join(model_path, 'trained_rnn'), trained_rnn)\n",
    "print('Model Trained and Saved')"
   ]
  },
  {
   "cell_type": "markdown",
   "metadata": {
    "id": "4r3nYsCigWI0"
   },
   "source": [
    "## 10. Model Loading\n",
    "The trained model and the necessary dictionaries for word-to-ID mapping are loaded from disk. This allows for generating new text using the trained RNN model without needing to retrain it."
   ]
  },
  {
   "cell_type": "code",
   "execution_count": 17,
   "metadata": {
    "colab": {
     "base_uri": "https://localhost:8080/"
    },
    "executionInfo": {
     "elapsed": 16,
     "status": "ok",
     "timestamp": 1738464592873,
     "user": {
      "displayName": "Vidhi Thakkar",
      "userId": "12401929017902074556"
     },
     "user_tz": 300
    },
    "id": "ItskCobzgWI1",
    "outputId": "4b684afc-5a89-4938-cb57-a45af899ebd2"
   },
   "outputs": [
    {
     "name": "stderr",
     "output_type": "stream",
     "text": [
      "/content/drive/My Drive/tv script generator project/project-generate-tv-scripts/helper.py:55: FutureWarning: You are using `torch.load` with `weights_only=False` (the current default value), which uses the default pickle module implicitly. It is possible to construct malicious pickle data which will execute arbitrary code during unpickling (See https://github.com/pytorch/pytorch/blob/main/SECURITY.md#untrusted-models for more details). In a future release, the default value for `weights_only` will be flipped to `True`. This limits the functions that could be executed during unpickling. Arbitrary objects will no longer be allowed to be loaded via this mode unless they are explicitly allowlisted by the user via `torch.serialization.add_safe_globals`. We recommend you start setting `weights_only=True` for any use case where you don't have full control of the loaded file. Please open an issue on GitHub for any issues related to this experimental feature.\n",
      "  return torch.load(save_filename)\n"
     ]
    }
   ],
   "source": [
    "import torch\n",
    "import helper\n",
    "import problem_unittests as tests\n",
    "\n",
    "_, vocab_to_int, int_to_vocab, token_dict = helper.load_preprocess()\n",
    "trained_rnn = helper.load_model(os.path.join(model_path, 'trained_rnn'))"
   ]
  },
  {
   "cell_type": "markdown",
   "metadata": {
    "id": "o5MDmITogWI7"
   },
   "source": [
    "## 11. Text Generation\n",
    "Processing for generating new text using the trained RNN model. The `generate` function takes a starting word ID and produces a specified length of text by predicting the next word iteratively. The generated text is then formatted to replace tokenized punctuation with actual punctuation marks."
   ]
  },
  {
   "cell_type": "code",
   "execution_count": 18,
   "metadata": {
    "executionInfo": {
     "elapsed": 6,
     "status": "ok",
     "timestamp": 1738464592874,
     "user": {
      "displayName": "Vidhi Thakkar",
      "userId": "12401929017902074556"
     },
     "user_tz": 300
    },
    "id": "5z8thxangWI-"
   },
   "outputs": [],
   "source": [
    "import torch.nn.functional as F\n",
    "\n",
    "def generate(rnn, prime_id, int_to_vocab, token_dict, pad_value, predict_len=100):\n",
    "    \"\"\"\n",
    "    Generate text using the neural network\n",
    "    :param decoder: The PyTorch Module that holds the trained neural network\n",
    "    :param prime_id: The word id to start the first prediction\n",
    "    :param int_to_vocab: Dict of word id keys to word values\n",
    "    :param token_dict: Dict of puncuation tokens keys to puncuation values\n",
    "    :param pad_value: The value used to pad a sequence\n",
    "    :param predict_len: The length of text to generate\n",
    "    :return: The generated text\n",
    "    \"\"\"\n",
    "    rnn.eval()\n",
    "\n",
    "    # creating a sequence (batch_size=1) with the prime_id\n",
    "    current_seq = np.full((1, sequence_length), pad_value)\n",
    "    current_seq[-1][-1] = prime_id\n",
    "    predicted = [int_to_vocab[prime_id]]\n",
    "\n",
    "    for _ in range(predict_len):\n",
    "        if train_on_gpu:\n",
    "            current_seq = torch.LongTensor(current_seq).cuda()\n",
    "        else:\n",
    "            current_seq = torch.LongTensor(current_seq)\n",
    "\n",
    "        # initializing the hidden state\n",
    "        hidden = rnn.init_hidden(current_seq.size(0))\n",
    "\n",
    "        # getting the output of the rnn\n",
    "        output, _ = rnn(current_seq, hidden)\n",
    "\n",
    "        # getting the next word probabilities\n",
    "        p = F.softmax(output, dim=1).data\n",
    "        if(train_on_gpu):\n",
    "            p = p.cpu() # move to cpu\n",
    "\n",
    "        # using top_k sampling to get the index of the next word\n",
    "        top_k = 5\n",
    "        p, top_i = p.topk(top_k)\n",
    "        top_i = top_i.numpy().squeeze()\n",
    "\n",
    "        # select the likely next word index with some element of randomness\n",
    "        p = p.numpy().squeeze()\n",
    "        word_i = np.random.choice(top_i, p=p/p.sum())\n",
    "\n",
    "        # retrieve that word from the dictionary\n",
    "        word = int_to_vocab[word_i]\n",
    "        predicted.append(word)\n",
    "\n",
    "        # the generated word becomes the next \"current sequence\" and the cycle can continue\n",
    "        current_seq = np.roll(current_seq.cpu(), -1, 1)\n",
    "        current_seq[-1][-1] = word_i\n",
    "\n",
    "    gen_sentences = ' '.join(predicted)\n",
    "\n",
    "    # Replace punctuation tokens\n",
    "    for key, token in token_dict.items():\n",
    "        ending = ' ' if key in ['\\n', '(', '\"'] else ''\n",
    "        gen_sentences = gen_sentences.replace(' ' + token.lower(), key)\n",
    "    gen_sentences = gen_sentences.replace('\\n ', '\\n')\n",
    "    gen_sentences = gen_sentences.replace('( ', '(')\n",
    "\n",
    "    # return all the sentences\n",
    "    return gen_sentences"
   ]
  },
  {
   "cell_type": "markdown",
   "metadata": {
    "id": "t-bvNDiGgWJA"
   },
   "source": [
    "## 12. Generate a New Script\n",
    "The user specifies the length of the generated script and the starting character for the dialogue. The `generate` function is called to produce a new script based on the trained model, and the generated text is printed."
   ]
  },
  {
   "cell_type": "code",
   "execution_count": 19,
   "metadata": {
    "colab": {
     "base_uri": "https://localhost:8080/"
    },
    "executionInfo": {
     "elapsed": 1067,
     "status": "ok",
     "timestamp": 1738464593935,
     "user": {
      "displayName": "Vidhi Thakkar",
      "userId": "12401929017902074556"
     },
     "user_tz": 300
    },
    "id": "OeD8jSPbgWJB",
    "outputId": "9b347b85-5baa-45dd-e377-ff58679f2a73"
   },
   "outputs": [
    {
     "name": "stdout",
     "output_type": "stream",
     "text": [
      "jerry: enthusiastically to the stand.\n",
      "\n",
      "chiles: so what is the penalty mans name?\n",
      "\n",
      "george: yes, the sponge- l. yes.\n",
      "\n",
      "george: oh, yeah, yeah.\n",
      "\n",
      "chiles: what happened?\n",
      "\n",
      "george: well, it was a lovely sandwich.\n",
      "\n",
      "chiles: i think it's the most beautiful person that occurred in the parking lot lady ended four days ago.\n",
      "\n",
      "george: i thought we were going to find out the bread.\n",
      "\n",
      "hoyt: so what?\n",
      "\n",
      "elaine: i don't know if it was a potential party.\n",
      "\n",
      "hoyt: call sidra holland to the stand.\n",
      "\n",
      "[new witness: the stand.\n",
      "\n",
      "jerry: what is that noise?\n",
      "\n",
      "george: yes.\n",
      "\n",
      "elaine: oh, you know, the people have had a fat conversation, so, essentially, i think that's it.\n",
      "\n",
      "hoyt: so what?\n",
      "\n",
      "elaine: oh yeah, yeah.\n",
      "\n",
      "hoyt: so you were in the bakery.\n",
      "\n",
      "[new witness: security 1.\n",
      "\n",
      "elaine: so, essentially, what's going on?\n",
      "\n",
      "george: i don't know, but i have to be a lot of prostitutes science.\n",
      "\n",
      "george: what is that noise?\n",
      "\n",
      "jerry: i think it's going upon be swarming to california.\n",
      "\n",
      "jerry: yeah, i think i can tell you about that. i can't stop calling to the stand. i got to go to latham\n",
      "\n",
      "hoyt: so, you got a cup of coffee for you, cause the four of you seemingly were innocentbystanders and stu removed to go out to lunch, you know... aaarrrrrgh sports!\"\n",
      "\n",
      "hoyt: and mr. seinfeld!\n",
      "\n",
      "george: what happened to the guy?\n",
      "\n",
      "hoyt: so i bet he was deported. he was sexy calling. he was deported.\n",
      "\n",
      "george: yeah, i got to go to latham.\n",
      "\n",
      "george: what do you mean deported?\n",
      "\n",
      "george: i don't have a private sandwich.\n",
      "\n",
      "[new witness: pharmacist. it's moors.\n",
      "\n",
      "elaine: what are you doing?\n",
      "\n",
      "hoyt:\n"
     ]
    }
   ],
   "source": [
    "# running this cell multiple times gets different results!\n",
    "gen_length = 400 # modify the length to your preference\n",
    "prime_word = 'jerry' # name for starting the script\n",
    "\n",
    "pad_word = helper.SPECIAL_WORDS['PADDING']\n",
    "generated_script = generate(trained_rnn, vocab_to_int[prime_word + ':'], int_to_vocab, token_dict, vocab_to_int[pad_word], gen_length)\n",
    "print(generated_script)"
   ]
  },
  {
   "cell_type": "markdown",
   "metadata": {
    "id": "5tKXNZN7gWJD"
   },
   "source": [
    "## 13. Save Generated Script"
   ]
  },
  {
   "cell_type": "code",
   "execution_count": null,
   "metadata": {
    "colab": {
     "base_uri": "https://localhost:8080/"
    },
    "executionInfo": {
     "elapsed": 1334,
     "status": "ok",
     "timestamp": 1738464595267,
     "user": {
      "displayName": "Vidhi Thakkar",
      "userId": "12401929017902074556"
     },
     "user_tz": 300
    },
    "id": "Rdg7kDshgWJE",
    "outputId": "aac905c1-8a86-407e-8d50-374efd4a077a"
   },
   "outputs": [],
   "source": [
    "# Save the script\n",
    "file_path = os.path.join(project_dir, \"generated_script.txt\")\n",
    "with open(file_path, \"w\") as f:\n",
    "    f.write(generated_script)\n",
    "\n",
    "print(f\"File saved at: {file_path}\")"
   ]
  },
  {
   "cell_type": "markdown",
   "metadata": {
    "id": "cU0rwwrXgWJG"
   },
   "source": [
    "The generated TV script may not be perfect, but it resemble the style of Seinfeld dialogue."
   ]
  }
 ],
 "metadata": {
  "accelerator": "GPU",
  "colab": {
   "provenance": []
  },
  "kernelspec": {
   "display_name": "Python 3 (ipykernel)",
   "language": "python",
   "name": "python3"
  },
  "language_info": {
   "codemirror_mode": {
    "name": "ipython",
    "version": 3
   },
   "file_extension": ".py",
   "mimetype": "text/x-python",
   "name": "python",
   "nbconvert_exporter": "python",
   "pygments_lexer": "ipython3",
   "version": "3.9.13"
  }
 },
 "nbformat": 4,
 "nbformat_minor": 1
}
